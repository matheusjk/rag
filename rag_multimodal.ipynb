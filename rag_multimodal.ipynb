{
  "nbformat": 4,
  "nbformat_minor": 0,
  "metadata": {
    "colab": {
      "provenance": [],
      "gpuType": "L4",
      "authorship_tag": "ABX9TyO6O93IiCID6Obx41RJ41N2",
      "include_colab_link": true
    },
    "kernelspec": {
      "name": "python3",
      "display_name": "Python 3"
    },
    "language_info": {
      "name": "python"
    },
    "accelerator": "GPU"
  },
  "cells": [
    {
      "cell_type": "markdown",
      "metadata": {
        "id": "view-in-github",
        "colab_type": "text"
      },
      "source": [
        "<a href=\"https://colab.research.google.com/github/matheusjk/rag/blob/main/rag_multimodal.ipynb\" target=\"_parent\"><img src=\"https://colab.research.google.com/assets/colab-badge.svg\" alt=\"Open In Colab\"/></a>"
      ]
    },
    {
      "cell_type": "markdown",
      "source": [
        "## Links Importantes\n",
        "\n",
        "https://www.datacamp.com/pt/tutorial/llama-3-2-vision-rag\n",
        "\n",
        "\n",
        "https://pydigger.com/pypi/Byaldi\n",
        "\n",
        "\n",
        "https://www.geeksforgeeks.org/multimodal-retrieval-augmented-generation-multimodal-rag/"
      ],
      "metadata": {
        "id": "CIJVoUo77WnF"
      }
    },
    {
      "cell_type": "code",
      "source": [
        "!pip install byaldi\n",
        "!sudo apt-get install -y poppler-utils\n",
        "!pip install -q git+https://github.com/huggingface/transformers.git qwen-vl-utils flash-attn optimum auto-gptq bitsandbytes transformers==4.48.0\n",
        "!pip install ollama"
      ],
      "metadata": {
        "id": "pub3SA4lH732"
      },
      "execution_count": null,
      "outputs": []
    },
    {
      "cell_type": "code",
      "execution_count": null,
      "metadata": {
        "id": "8w5SyN-aHgvf"
      },
      "outputs": [],
      "source": []
    },
    {
      "cell_type": "code",
      "source": [
        "import os, base64\n",
        "from byaldi import RAGMultiModalModel\n",
        "\n",
        "rag = RAGMultiModalModel.from_pretrained(\"vidore/colpali-v1.2\", verbose=1)"
      ],
      "metadata": {
        "id": "cGSotmXVm07M"
      },
      "execution_count": null,
      "outputs": []
    },
    {
      "cell_type": "code",
      "source": [],
      "metadata": {
        "id": "tgmaXtvpm04y"
      },
      "execution_count": null,
      "outputs": []
    },
    {
      "cell_type": "code",
      "source": [
        "!wget https://www.ime.usp.br/~mapweb/tcc/2018/WagnerJorcuvichV3.pdf"
      ],
      "metadata": {
        "id": "BWDdErwkm02S"
      },
      "execution_count": null,
      "outputs": []
    },
    {
      "cell_type": "code",
      "source": [
        "# https://arxiv.org/pdf/2506.08872"
      ],
      "metadata": {
        "id": "shB_WLXE5HRF"
      },
      "execution_count": null,
      "outputs": []
    },
    {
      "cell_type": "code",
      "source": [],
      "metadata": {
        "id": "9pazj6cem0z_"
      },
      "execution_count": null,
      "outputs": []
    },
    {
      "cell_type": "code",
      "source": [
        "rag.index(\n",
        "    input_path=\"/content/WagnerJorcuvichV3.pdf\",\n",
        "    index_name=\"quantum_computer\",\n",
        "    store_collection_with_index=True, # store base64 represetation of images\n",
        "    overwrite=True\n",
        ")"
      ],
      "metadata": {
        "id": "csJbUWI6m0xo"
      },
      "execution_count": null,
      "outputs": []
    },
    {
      "cell_type": "code",
      "source": [
        "query = \"Algoritmos de Shor onde são aplicados?\"\n",
        "resultados = rag.search(query, k=1)\n",
        "resultados"
      ],
      "metadata": {
        "id": "WoGP9AULm0vR"
      },
      "execution_count": null,
      "outputs": []
    },
    {
      "cell_type": "code",
      "source": [],
      "metadata": {
        "id": "pQMEQA45m0tX"
      },
      "execution_count": null,
      "outputs": []
    },
    {
      "cell_type": "code",
      "source": [
        "from IPython.display import Image\n",
        "\n",
        "\n",
        "def veja_image(image_base64):\n",
        "  image_bytes = base64.b64decode(image_base64)\n",
        "  filename = '/tmp/image.jpg'\n",
        "  with open(filename, 'wb') as f:\n",
        "    f.write(image_bytes)\n",
        "  display(Image(filename))\n",
        "\n",
        "\n",
        "for res in resultados:\n",
        "  veja_image(res['base64'])"
      ],
      "metadata": {
        "id": "QwZRnNytm0qj"
      },
      "execution_count": null,
      "outputs": []
    },
    {
      "cell_type": "code",
      "source": [
        "!curl -fsSL https://ollama.com/install.sh | sh"
      ],
      "metadata": {
        "id": "UW6mr8Exm0n3"
      },
      "execution_count": null,
      "outputs": []
    },
    {
      "cell_type": "code",
      "source": [
        "!pip install colab-xterm\n",
        "%load_ext colabxterm"
      ],
      "metadata": {
        "id": "3FzlvFYIxj2z"
      },
      "execution_count": null,
      "outputs": []
    },
    {
      "cell_type": "code",
      "source": [
        "%xterm"
      ],
      "metadata": {
        "id": "97-mTHjvxYAZ"
      },
      "execution_count": null,
      "outputs": []
    },
    {
      "cell_type": "code",
      "source": [
        "!ollama list"
      ],
      "metadata": {
        "id": "8gjLhBNpm0i9"
      },
      "execution_count": null,
      "outputs": []
    },
    {
      "cell_type": "code",
      "source": [
        "!ollama run gemma3:4b"
      ],
      "metadata": {
        "id": "IDvY6j8U1x4h"
      },
      "execution_count": null,
      "outputs": []
    },
    {
      "cell_type": "code",
      "source": [],
      "metadata": {
        "id": "iAP4tOKSm0gl"
      },
      "execution_count": null,
      "outputs": []
    },
    {
      "cell_type": "code",
      "source": [
        "# import ollama\n",
        "\n",
        "# response = ollama.chat(\n",
        "#     model='llama3.2-vision',\n",
        "#     messages=[{\n",
        "#         'role': 'user',\n",
        "#         'content': \"Quais e quantos são os algoritmos quanticos?\",\n",
        "#         'images': ['/tmp/image.jpg']\n",
        "#     }]\n",
        "# )\n",
        "# print(response['message']['content'])"
      ],
      "metadata": {
        "id": "r3svffo4m0d6"
      },
      "execution_count": null,
      "outputs": []
    },
    {
      "cell_type": "code",
      "source": [
        "import ollama\n",
        "\n",
        "response = ollama.chat(\n",
        "    model='gemma3:4b',\n",
        "    messages=[{\n",
        "        'role': 'user',\n",
        "        'content': \"Quais e quantos são os algoritmos quanticos?\",\n",
        "        'images': ['/tmp/image.jpg']\n",
        "    }]\n",
        ")\n",
        "print(response['message']['content'])"
      ],
      "metadata": {
        "id": "d-gRVE8611fh"
      },
      "execution_count": null,
      "outputs": []
    },
    {
      "cell_type": "code",
      "source": [],
      "metadata": {
        "id": "5PDCQDEkm0bb"
      },
      "execution_count": null,
      "outputs": []
    },
    {
      "cell_type": "code",
      "source": [
        "def inference(question: str):\n",
        "  results = rag.search(question, k=1)\n",
        "  veja_image(results[0]['base64'])\n",
        "\n",
        "  response = ollama.chat(\n",
        "      model='gemma3:4b',\n",
        "      messages=[{\n",
        "          'role': 'user',\n",
        "          'content': question,\n",
        "          'images': ['/tmp/image.jpg']\n",
        "      }]\n",
        "  )\n",
        "\n",
        "  return response['message']['content']\n",
        "\n",
        "inference_result = inference(\"Explique a figura 1\")\n",
        "print(inference_result)"
      ],
      "metadata": {
        "id": "hq-X6YmuyMp6"
      },
      "execution_count": null,
      "outputs": []
    },
    {
      "cell_type": "code",
      "source": [],
      "metadata": {
        "id": "7tna8Jp4yMnL"
      },
      "execution_count": null,
      "outputs": []
    },
    {
      "cell_type": "code",
      "source": [
        "inference_result = inference(\"O que o algoritmo de Shor revolve e o que faz o algoritmo de Groove?\")\n",
        "print(inference_result)"
      ],
      "metadata": {
        "id": "vs2jvWOKm0ZB"
      },
      "execution_count": null,
      "outputs": []
    },
    {
      "cell_type": "code",
      "source": [],
      "metadata": {
        "id": "3chae3DByldb"
      },
      "execution_count": null,
      "outputs": []
    },
    {
      "cell_type": "code",
      "source": [],
      "metadata": {
        "id": "Fc_NHmszylae"
      },
      "execution_count": null,
      "outputs": []
    },
    {
      "cell_type": "code",
      "source": [
        "inference_result = inference(\"Quais as empresas estão fabricando computadores e softwares quanticos?\")\n",
        "print(inference_result)"
      ],
      "metadata": {
        "id": "SbHhO5PHm0WL"
      },
      "execution_count": null,
      "outputs": []
    },
    {
      "cell_type": "code",
      "source": [],
      "metadata": {
        "id": "wZ4LVOIN3lJ5"
      },
      "execution_count": null,
      "outputs": []
    },
    {
      "cell_type": "code",
      "source": [],
      "metadata": {
        "id": "LPcLAspZ4q7Q"
      },
      "execution_count": null,
      "outputs": []
    },
    {
      "cell_type": "code",
      "source": [
        "inference_result = inference(\"O que são Qbits e qual sua relação com a esfera de Bloch?\")\n",
        "print(inference_result)"
      ],
      "metadata": {
        "id": "L4o5QiMe4q4i"
      },
      "execution_count": null,
      "outputs": []
    },
    {
      "cell_type": "code",
      "source": [],
      "metadata": {
        "id": "gzQo6TL54q1s"
      },
      "execution_count": null,
      "outputs": []
    },
    {
      "cell_type": "code",
      "source": [],
      "metadata": {
        "id": "4OM7lPhr3lHK"
      },
      "execution_count": null,
      "outputs": []
    },
    {
      "cell_type": "code",
      "source": [
        "# https://huggingface.co/nanonets/Nanonets-OCR-s"
      ],
      "metadata": {
        "id": "OF1bnbhc8ifi"
      },
      "execution_count": null,
      "outputs": []
    },
    {
      "cell_type": "code",
      "source": [
        "# https://reports.weforum.org/docs/WEF_Global_Risks_Report_2025.pdf"
      ],
      "metadata": {
        "id": "dqHO97WE3lEX"
      },
      "execution_count": null,
      "outputs": []
    }
  ]
}